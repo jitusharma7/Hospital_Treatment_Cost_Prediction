{
 "cells": [
  {
   "cell_type": "code",
   "execution_count": 8,
   "metadata": {},
   "outputs": [],
   "source": [
    "import numpy as np\n",
    "import pandas as pd\n",
    "\n",
    "\n",
    "from sklearn.model_selection import train_test_split\n",
    "\n",
    "import statsmodels\n",
    "from statsmodels.stats.outliers_influence import variance_inflation_factor\n",
    "from statsmodels.tools.tools import add_constant\n",
    "from statsmodels.compat import lzip\n",
    "import statsmodels.api as sm\n",
    "from statsmodels.formula.api import ols\n",
    "\n",
    "from scipy import stats\n",
    "import scipy.stats as stats\n",
    "import matplotlib.pyplot as plt\n",
    "\n",
    "import os\n",
    "import seaborn as sns\n",
    "\n",
    "%matplotlib inline\n",
    "from sklearn.model_selection import train_test_split\n",
    "from sklearn.linear_model import LinearRegression"
   ]
  },
  {
   "cell_type": "code",
   "execution_count": 9,
   "metadata": {},
   "outputs": [],
   "source": [
    "hospital = pd.read_csv(r\"C:\\Users\\Administrator\\Desktop\\GIM term 2\\PPA\\Mission.csv\")"
   ]
  },
  {
   "cell_type": "code",
   "execution_count": 10,
   "metadata": {},
   "outputs": [],
   "source": [
    "hospital1 = hospital[['BODY_WEIGHT', 'TOTAL_LENGTH_OF_STAY', 'LENGTH_OF_STAY_ICU',\n",
    "       'COST_OF_IMPLANT','TOTAL_COST_TO_HOSPITAL']]"
   ]
  },
  {
   "cell_type": "code",
   "execution_count": 11,
   "metadata": {},
   "outputs": [],
   "source": [
    "X = hospital1.drop(columns = 'TOTAL_COST_TO_HOSPITAL')"
   ]
  },
  {
   "cell_type": "code",
   "execution_count": 12,
   "metadata": {},
   "outputs": [],
   "source": [
    "y = hospital1['TOTAL_COST_TO_HOSPITAL']"
   ]
  },
  {
   "cell_type": "code",
   "execution_count": 13,
   "metadata": {},
   "outputs": [],
   "source": [
    "X_train, X_test, y_train, y_test = train_test_split(X, y, test_size = 0.25)"
   ]
  },
  {
   "cell_type": "code",
   "execution_count": 14,
   "metadata": {},
   "outputs": [
    {
     "name": "stdout",
     "output_type": "stream",
     "text": [
      "0.7943040653879093\n"
     ]
    }
   ],
   "source": [
    "regr = LinearRegression()\n",
    "  \n",
    "regr.fit(X_train, y_train)\n",
    "print(regr.score(X_test, y_test))"
   ]
  },
  {
   "cell_type": "code",
   "execution_count": 15,
   "metadata": {},
   "outputs": [],
   "source": [
    "## save model pickle file\n",
    "import pickle\n",
    "with open ('regr_pickle', 'wb') as f:\n",
    "    pickle.dump(regr,f)"
   ]
  },
  {
   "cell_type": "code",
   "execution_count": 16,
   "metadata": {},
   "outputs": [
    {
     "data": {
      "text/plain": [
       "pandas.core.frame.DataFrame"
      ]
     },
     "execution_count": 16,
     "metadata": {},
     "output_type": "execute_result"
    }
   ],
   "source": [
    "type(X_test)"
   ]
  },
  {
   "cell_type": "code",
   "execution_count": 17,
   "metadata": {},
   "outputs": [
    {
     "data": {
      "text/html": [
       "<div>\n",
       "<style scoped>\n",
       "    .dataframe tbody tr th:only-of-type {\n",
       "        vertical-align: middle;\n",
       "    }\n",
       "\n",
       "    .dataframe tbody tr th {\n",
       "        vertical-align: top;\n",
       "    }\n",
       "\n",
       "    .dataframe thead th {\n",
       "        text-align: right;\n",
       "    }\n",
       "</style>\n",
       "<table border=\"1\" class=\"dataframe\">\n",
       "  <thead>\n",
       "    <tr style=\"text-align: right;\">\n",
       "      <th></th>\n",
       "      <th>BODY_WEIGHT</th>\n",
       "      <th>TOTAL_LENGTH_OF_STAY</th>\n",
       "      <th>LENGTH_OF_STAY_ICU</th>\n",
       "      <th>COST_OF_IMPLANT</th>\n",
       "    </tr>\n",
       "  </thead>\n",
       "  <tbody>\n",
       "    <tr>\n",
       "      <th>243</th>\n",
       "      <td>69</td>\n",
       "      <td>10</td>\n",
       "      <td>3</td>\n",
       "      <td>35000</td>\n",
       "    </tr>\n",
       "    <tr>\n",
       "      <th>65</th>\n",
       "      <td>15</td>\n",
       "      <td>7</td>\n",
       "      <td>1</td>\n",
       "      <td>0</td>\n",
       "    </tr>\n",
       "    <tr>\n",
       "      <th>186</th>\n",
       "      <td>82</td>\n",
       "      <td>9</td>\n",
       "      <td>4</td>\n",
       "      <td>0</td>\n",
       "    </tr>\n",
       "    <tr>\n",
       "      <th>112</th>\n",
       "      <td>60</td>\n",
       "      <td>7</td>\n",
       "      <td>2</td>\n",
       "      <td>0</td>\n",
       "    </tr>\n",
       "    <tr>\n",
       "      <th>92</th>\n",
       "      <td>6</td>\n",
       "      <td>18</td>\n",
       "      <td>15</td>\n",
       "      <td>0</td>\n",
       "    </tr>\n",
       "  </tbody>\n",
       "</table>\n",
       "</div>"
      ],
      "text/plain": [
       "     BODY_WEIGHT  TOTAL_LENGTH_OF_STAY  LENGTH_OF_STAY_ICU  COST_OF_IMPLANT\n",
       "243           69                    10                   3            35000\n",
       "65            15                     7                   1                0\n",
       "186           82                     9                   4                0\n",
       "112           60                     7                   2                0\n",
       "92             6                    18                  15                0"
      ]
     },
     "execution_count": 17,
     "metadata": {},
     "output_type": "execute_result"
    }
   ],
   "source": [
    "X_test.head()"
   ]
  },
  {
   "cell_type": "code",
   "execution_count": 18,
   "metadata": {},
   "outputs": [],
   "source": [
    "y_pred = regr.predict(X_test)"
   ]
  },
  {
   "cell_type": "code",
   "execution_count": 19,
   "metadata": {},
   "outputs": [],
   "source": [
    "df = pd.DataFrame([[1,2,3,4]], columns=['a', 'b', 'v', 'w'])"
   ]
  },
  {
   "cell_type": "code",
   "execution_count": 20,
   "metadata": {},
   "outputs": [],
   "source": [
    "\n",
    "BODY_WEIGHT = 50\n",
    "TOTAL_LENGTH_OF_STAY = 25\n",
    "LENGTH_OF_STAY_ICU = 20\n",
    "COST_OF_IMPLANT = 20000\n",
    "\n",
    "d = pd.DataFrame([[BODY_WEIGHT,TOTAL_LENGTH_OF_STAY,LENGTH_OF_STAY_ICU,COST_OF_IMPLANT]],columns=['BODY_WEIGHT','TOTAL_LENGTH_OF_STAY','LENGTH_OF_STAY_ICU','COST_OF_IMPLANT'])"
   ]
  },
  {
   "cell_type": "code",
   "execution_count": 21,
   "metadata": {},
   "outputs": [],
   "source": [
    "prediction  = regr.predict(d)\n",
    "prediction1 = prediction.astype(int)"
   ]
  },
  {
   "cell_type": "code",
   "execution_count": 22,
   "metadata": {},
   "outputs": [
    {
     "data": {
      "text/plain": [
       "numpy.ndarray"
      ]
     },
     "execution_count": 22,
     "metadata": {},
     "output_type": "execute_result"
    }
   ],
   "source": [
    "type(prediction)"
   ]
  },
  {
   "cell_type": "code",
   "execution_count": 23,
   "metadata": {},
   "outputs": [
    {
     "name": "stdout",
     "output_type": "stream",
     "text": [
      "[605213]\n"
     ]
    }
   ],
   "source": [
    "print((prediction1))"
   ]
  },
  {
   "cell_type": "code",
   "execution_count": 24,
   "metadata": {},
   "outputs": [
    {
     "data": {
      "text/plain": [
       "array([605213.])"
      ]
     },
     "execution_count": 24,
     "metadata": {},
     "output_type": "execute_result"
    }
   ],
   "source": [
    "np.round(prediction)"
   ]
  },
  {
   "cell_type": "code",
   "execution_count": null,
   "metadata": {},
   "outputs": [],
   "source": []
  },
  {
   "cell_type": "code",
   "execution_count": 25,
   "metadata": {},
   "outputs": [
    {
     "data": {
      "text/plain": [
       "array([251354.49724645,  98674.95929684, 205487.92337083, 144544.79012951,\n",
       "       410734.4531675 , 118084.73818947, 136935.18082656, 258858.60764649,\n",
       "       324154.25678419,  79727.94889368, 104506.14074863, 184486.87174433,\n",
       "       178314.33974611, 138479.23422557, 259090.08937502, 376515.02440874,\n",
       "       357790.42762807,  98068.40370644, 259926.02989424, 141655.79927846,\n",
       "       254847.09296588, 187452.3600206 , 154387.48626192, 113370.1001524 ,\n",
       "       285592.3711266 , 160734.63595288, 390861.28180158,  99888.07047763,\n",
       "       159612.11212332, 137067.00709781, 246684.35508646, 490517.83673987,\n",
       "       152567.81949073, 126011.19978462, 143229.13076783, 125969.9608646 ,\n",
       "        96248.73693526, 125639.01864638, 106325.80751982, 146039.49509732,\n",
       "       123584.97742304, 232637.00874132,  99515.88933939, 115286.33468965,\n",
       "       157313.28811961,  97461.84811605, 138845.43494897, 202724.7783762 ,\n",
       "       138611.06049682, 139859.4301828 , 158812.42100079, 131842.38123642,\n",
       "       105953.62638157, 156447.50790009, 193163.6760308 , 131710.55496516,\n",
       "       275024.57128723, 125140.99165172, 235731.09595417, 232326.13686395,\n",
       "        98674.95929684, 107911.09983885])"
      ]
     },
     "execution_count": 25,
     "metadata": {},
     "output_type": "execute_result"
    }
   ],
   "source": [
    "y_pred"
   ]
  },
  {
   "cell_type": "code",
   "execution_count": null,
   "metadata": {},
   "outputs": [],
   "source": []
  },
  {
   "cell_type": "code",
   "execution_count": null,
   "metadata": {},
   "outputs": [],
   "source": []
  }
 ],
 "metadata": {
  "kernelspec": {
   "display_name": "Python 3",
   "language": "python",
   "name": "python3"
  },
  "language_info": {
   "codemirror_mode": {
    "name": "ipython",
    "version": 3
   },
   "file_extension": ".py",
   "mimetype": "text/x-python",
   "name": "python",
   "nbconvert_exporter": "python",
   "pygments_lexer": "ipython3",
   "version": "3.8.3"
  }
 },
 "nbformat": 4,
 "nbformat_minor": 4
}
